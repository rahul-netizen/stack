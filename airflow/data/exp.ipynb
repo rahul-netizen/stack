{
 "cells": [
  {
   "cell_type": "code",
   "execution_count": 4,
   "metadata": {},
   "outputs": [],
   "source": [
    "import pandas as pd\n",
    "import great_expectations as gx\n",
    "from zipfile import ZipFile\n",
    "import requests\n",
    "from pathlib import Path"
   ]
  },
  {
   "cell_type": "code",
   "execution_count": 2,
   "metadata": {},
   "outputs": [
    {
     "name": "stdout",
     "output_type": "stream",
     "text": [
      "^C\n"
     ]
    }
   ],
   "source": [
    "!curl -Ls \"https://info.stackoverflowsolutions.com/rs/719-EMH-566/images/stack-overflow-developer-survey-2022.zip\" -o stack-overflow-developer-survey-2022.zip\n",
    "\n",
    "\n",
    "# https://survey.stackoverflow.co/datasets/stack-overflow-developer-survey-2017.zip"
   ]
  },
  {
   "cell_type": "code",
   "execution_count": 47,
   "metadata": {
    "tags": [
     "parameters"
    ]
   },
   "outputs": [
    {
     "name": "stdout",
     "output_type": "stream",
     "text": [
      "Starting stackoverflow survey ETL from 2011 till 2015..\n",
      "Extractiing data for the 2011 year.. \n",
      "Function :'extract' with args:[(2011,), {}] took: 0.0311 sec\n",
      "Unzipping data for stackoverflow survey at stack_data/2011/stack-overflow-developer-survey-2011.zip.. \n",
      "Function :'transform' with args:[(PosixPath('stack_data/2011/stack-overflow-developer-survey-2011.zip'),), {}] took: 0.0066 sec\n",
      "\n",
      "\n",
      "Extractiing data for the 2012 year.. \n",
      "Function :'extract' with args:[(2012,), {}] took: 0.0441 sec\n",
      "Unzipping data for stackoverflow survey at stack_data/2012/stack-overflow-developer-survey-2012.zip.. \n",
      "Function :'transform' with args:[(PosixPath('stack_data/2012/stack-overflow-developer-survey-2012.zip'),), {}] took: 0.0131 sec\n",
      "\n",
      "\n",
      "Extractiing data for the 2013 year.. \n",
      "Function :'extract' with args:[(2013,), {}] took: 0.0578 sec\n",
      "Unzipping data for stackoverflow survey at stack_data/2013/stack-overflow-developer-survey-2013.zip.. \n",
      "Function :'transform' with args:[(PosixPath('stack_data/2013/stack-overflow-developer-survey-2013.zip'),), {}] took: 0.0390 sec\n",
      "\n",
      "\n",
      "Extractiing data for the 2014 year.. \n",
      "Function :'extract' with args:[(2014,), {}] took: 0.0532 sec\n",
      "Unzipping data for stackoverflow survey at stack_data/2014/stack-overflow-developer-survey-2014.zip.. \n",
      "Function :'transform' with args:[(PosixPath('stack_data/2014/stack-overflow-developer-survey-2014.zip'),), {}] took: 0.0427 sec\n",
      "\n",
      "\n",
      "Extractiing data for the 2015 year.. \n",
      "Function :'extract' with args:[(2015,), {}] took: 0.0638 sec\n",
      "Unzipping data for stackoverflow survey at stack_data/2015/stack-overflow-developer-survey-2015.zip.. \n",
      "Function :'transform' with args:[(PosixPath('stack_data/2015/stack-overflow-developer-survey-2015.zip'),), {}] took: 0.1372 sec\n",
      "\n",
      "\n",
      "Function :'orchestrate' with args:[(2011, 2015), {}] took: 0.4906 sec\n"
     ]
    }
   ],
   "source": [
    "\n",
    "from functools import wraps\n",
    "from time import time\n",
    "\n",
    "def timing(f):\n",
    "    @wraps(f)\n",
    "    def wrap(*args, **kw):\n",
    "        ts = time()\n",
    "        result = f(*args, **kw)\n",
    "        te = time()\n",
    "        print('Function :%r with args:[%r, %r] took: %2.4f sec' % \\\n",
    "          (f.__name__, args, kw, te-ts))\n",
    "        return result\n",
    "    return wrap\n",
    "\n",
    "@timing\n",
    "def extract(year):\n",
    "    print(f'Extractiing data for the {year} year.. ')\n",
    "    resp = requests.get(f\"https://survey.stackoverflow.co/datasets/stack-overflow-developer-survey-{year}.zip\")\n",
    "    data_dir = Path(f'./stack_data/{year}')\n",
    "    data_dir.mkdir(exist_ok=True, parents=True)\n",
    "    with open(data_dir / f'stack-overflow-developer-survey-{year}.zip', 'wb') as f:\n",
    "        f.write(resp.content)\n",
    "    return data_dir / f'stack-overflow-developer-survey-{year}.zip'\n",
    "\n",
    "@timing\n",
    "def transform(file_path: Path):\n",
    "    print(f'Unzipping data for stackoverflow survey at {file_path}.. ')\n",
    "    zip = ZipFile(file_path)\n",
    "    for file in zip.infolist():\n",
    "        if  Path(file.filename).suffix == '.csv':\n",
    "            zip.extract(file.filename, path=file_path.parent)\n",
    "# def dq_checks():\n",
    "# def load():\n",
    "\n",
    "@timing\n",
    "def orchestrate(start_year, end_year):\n",
    "    print(f'Starting stackoverflow survey ETL from {start_year} till {end_year}..')\n",
    "    for year in range(start_year, end_year + 1):\n",
    "        file_path = extract(year)\n",
    "        transform(file_path)\n",
    "        print('\\n')\n",
    "\n",
    "if __name__ == '__main__':\n",
    "    orchestrate(2011, 2015)"
   ]
  }
 ],
 "metadata": {
  "kernelspec": {
   "display_name": "Python 3",
   "language": "python",
   "name": "python3"
  },
  "language_info": {
   "codemirror_mode": {
    "name": "ipython",
    "version": 3
   },
   "file_extension": ".py",
   "mimetype": "text/x-python",
   "name": "python",
   "nbconvert_exporter": "python",
   "pygments_lexer": "ipython3",
   "version": "3.10.13"
  }
 },
 "nbformat": 4,
 "nbformat_minor": 2
}
