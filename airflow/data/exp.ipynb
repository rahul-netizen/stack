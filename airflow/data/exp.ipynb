{
 "cells": [
  {
   "cell_type": "code",
   "execution_count": 4,
   "metadata": {},
   "outputs": [],
   "source": [
    "import pandas as pd\n",
    "import great_expectations as gx\n",
    "from zipfile import ZipFile\n",
    "import requests\n",
    "from pathlib import Path"
   ]
  },
  {
   "cell_type": "code",
   "execution_count": 2,
   "metadata": {},
   "outputs": [
    {
     "name": "stdout",
     "output_type": "stream",
     "text": [
      "^C\n"
     ]
    }
   ],
   "source": [
    "!curl -Ls \"https://info.stackoverflowsolutions.com/rs/719-EMH-566/images/stack-overflow-developer-survey-2022.zip\" -o stack-overflow-developer-survey-2022.zip\n",
    "\n",
    "\n",
    "# https://survey.stackoverflow.co/datasets/stack-overflow-developer-survey-2017.zip"
   ]
  },
  {
   "cell_type": "code",
   "execution_count": 36,
   "metadata": {
    "tags": [
     "parameters"
    ]
   },
   "outputs": [
    {
     "name": "stdout",
     "output_type": "stream",
     "text": [
      "stack_data/2011/stack-overflow-developer-survey-2011.zip\n",
      "stack_data/2012/stack-overflow-developer-survey-2012.zip\n",
      "stack_data/2013/stack-overflow-developer-survey-2013.zip\n",
      "stack_data/2014/stack-overflow-developer-survey-2014.zip\n",
      "stack_data/2015/stack-overflow-developer-survey-2015.zip\n"
     ]
    }
   ],
   "source": [
    "\n",
    "def extract(year):\n",
    "    resp = requests.get(f\"https://survey.stackoverflow.co/datasets/stack-overflow-developer-survey-{year}.zip\")\n",
    "    data_dir = Path(f'./stack_data/{year}')\n",
    "    data_dir.mkdir(exist_ok=True, parents=True)\n",
    "    with open(data_dir / f'stack-overflow-developer-survey-{year}.zip', 'wb') as f:\n",
    "        f.write(resp.content)\n",
    "    return data_dir / f'stack-overflow-developer-survey-{year}.zip'\n",
    "\n",
    "def transform(file_path: Path):\n",
    "    zip = ZipFile(file_path)\n",
    "    for file in zip.infolist():\n",
    "        if  Path(file.filename).is_file():\n",
    "            print(file.orig_filename)\n",
    "            zip.extract(file.filename, path=file_path.parent)\n",
    "# def dq_checks():\n",
    "# def load():\n",
    "\n",
    "def orchestrate(start_year, end_year):\n",
    "    for year in range(start_year, end_year + 1):\n",
    "        file_path = extract(year)\n",
    "        print(file_path)\n",
    "        transform(file_path)\n",
    "\n",
    "if __name__ == '__main__':\n",
    "    orchestrate(2011, 2015)"
   ]
  }
 ],
 "metadata": {
  "kernelspec": {
   "display_name": "Python 3",
   "language": "python",
   "name": "python3"
  },
  "language_info": {
   "codemirror_mode": {
    "name": "ipython",
    "version": 3
   },
   "file_extension": ".py",
   "mimetype": "text/x-python",
   "name": "python",
   "nbconvert_exporter": "python",
   "pygments_lexer": "ipython3",
   "version": "3.10.13"
  }
 },
 "nbformat": 4,
 "nbformat_minor": 2
}
